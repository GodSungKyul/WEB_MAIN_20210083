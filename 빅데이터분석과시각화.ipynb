{
  "nbformat": 4,
  "nbformat_minor": 0,
  "metadata": {
    "colab": {
      "provenance": [],
      "authorship_tag": "ABX9TyMA+yDdDwbEkay1yk1rr4kL",
      "include_colab_link": true
    },
    "kernelspec": {
      "name": "ir",
      "display_name": "R"
    },
    "language_info": {
      "name": "R"
    }
  },
  "cells": [
    {
      "cell_type": "markdown",
      "metadata": {
        "id": "view-in-github",
        "colab_type": "text"
      },
      "source": [
        "<a href=\"https://colab.research.google.com/github/GodSungKyul/WEB_MAIN_20210083/blob/main/%EB%B9%85%EB%8D%B0%EC%9D%B4%ED%84%B0%EB%B6%84%EC%84%9D%EA%B3%BC%EC%8B%9C%EA%B0%81%ED%99%94.ipynb\" target=\"_parent\"><img src=\"https://colab.research.google.com/assets/colab-badge.svg\" alt=\"Open In Colab\"/></a>"
      ]
    },
    {
      "cell_type": "markdown",
      "source": [
        "R 사칙연산"
      ],
      "metadata": {
        "id": "-sGZMkPF7Aeh"
      }
    },
    {
      "cell_type": "markdown",
      "source": [],
      "metadata": {
        "id": "sXPbuQSI5Tml"
      }
    },
    {
      "cell_type": "code",
      "execution_count": null,
      "metadata": {
        "colab": {
          "base_uri": "https://localhost:8080/"
        },
        "id": "06P7uoIq6RlQ",
        "outputId": "64195bdb-6330-42aa-882f-99a4d0016e0d"
      },
      "outputs": [
        {
          "output_type": "execute_result",
          "data": {
            "text/plain": [
              "4"
            ]
          },
          "metadata": {},
          "execution_count": 4
        }
      ],
      "source": [
        "#더하기\n",
        "2+2"
      ]
    },
    {
      "cell_type": "code",
      "source": [
        "7-5"
      ],
      "metadata": {
        "colab": {
          "base_uri": "https://localhost:8080/"
        },
        "id": "hxDVuxfW66QF",
        "outputId": "767d20e2-33e6-44cb-904b-7e7e078d3316"
      },
      "execution_count": null,
      "outputs": [
        {
          "output_type": "execute_result",
          "data": {
            "text/plain": [
              "2"
            ]
          },
          "metadata": {},
          "execution_count": 5
        }
      ]
    },
    {
      "cell_type": "markdown",
      "source": [
        "데이터의 유형"
      ],
      "metadata": {
        "id": "n1rXctLc9LHu"
      }
    },
    {
      "cell_type": "code",
      "source": [
        "x <- c(80, 90, 30, 60, 70)"
      ],
      "metadata": {
        "id": "vFAhiVYB9Dzf"
      },
      "execution_count": 2,
      "outputs": []
    },
    {
      "cell_type": "code",
      "source": [
        "x"
      ],
      "metadata": {
        "colab": {
          "base_uri": "https://localhost:8080/",
          "height": 34
        },
        "id": "SO6QvE0i9jTT",
        "outputId": "a1288b25-d54d-4115-9bd2-8d4db5a575fb"
      },
      "execution_count": 3,
      "outputs": [
        {
          "output_type": "display_data",
          "data": {
            "text/html": [
              "<style>\n",
              ".list-inline {list-style: none; margin:0; padding: 0}\n",
              ".list-inline>li {display: inline-block}\n",
              ".list-inline>li:not(:last-child)::after {content: \"\\00b7\"; padding: 0 .5ex}\n",
              "</style>\n",
              "<ol class=list-inline><li>80</li><li>90</li><li>30</li><li>60</li><li>70</li></ol>\n"
            ],
            "text/markdown": "1. 80\n2. 90\n3. 30\n4. 60\n5. 70\n\n\n",
            "text/latex": "\\begin{enumerate*}\n\\item 80\n\\item 90\n\\item 30\n\\item 60\n\\item 70\n\\end{enumerate*}\n",
            "text/plain": [
              "[1] 80 90 30 60 70"
            ]
          },
          "metadata": {}
        }
      ]
    },
    {
      "cell_type": "code",
      "source": [
        "y <- c(\"LEE\", \"KIM\", \"JUNG\", \"PARK\", \"OTANI\")"
      ],
      "metadata": {
        "id": "z_s9ZGaX9lcI"
      },
      "execution_count": 4,
      "outputs": []
    },
    {
      "cell_type": "code",
      "source": [
        "str(x)"
      ],
      "metadata": {
        "colab": {
          "base_uri": "https://localhost:8080/"
        },
        "id": "99JUfQOG96Qy",
        "outputId": "dd8f5a13-6495-46d1-91e9-e85426ad1559"
      },
      "execution_count": 5,
      "outputs": [
        {
          "output_type": "stream",
          "name": "stdout",
          "text": [
            " num [1:5] 80 90 30 60 70\n"
          ]
        }
      ]
    },
    {
      "cell_type": "code",
      "source": [
        "str(y)"
      ],
      "metadata": {
        "colab": {
          "base_uri": "https://localhost:8080/"
        },
        "id": "0Lf45NHm-Gyh",
        "outputId": "7d59d39c-1daf-42b1-fa40-69a2c9022efb"
      },
      "execution_count": 6,
      "outputs": [
        {
          "output_type": "stream",
          "name": "stdout",
          "text": [
            " chr [1:5] \"LEE\" \"KIM\" \"JUNG\" \"PARK\" \"OTANI\"\n"
          ]
        }
      ]
    },
    {
      "cell_type": "code",
      "source": [
        "a <- c(\"1학년\", \"2학년\", \"3학년\", \"2학년\", \"4학년\")"
      ],
      "metadata": {
        "id": "huyx4RP4AqzS"
      },
      "execution_count": 19,
      "outputs": []
    },
    {
      "cell_type": "code",
      "source": [
        "d <- factor(a)"
      ],
      "metadata": {
        "id": "tqYN6UnIA_HO"
      },
      "execution_count": 21,
      "outputs": []
    },
    {
      "cell_type": "code",
      "source": [
        "5 > 3"
      ],
      "metadata": {
        "colab": {
          "base_uri": "https://localhost:8080/",
          "height": 34
        },
        "id": "NPFR3VM3-cdX",
        "outputId": "84adebdf-b4f7-4bbb-b4d4-e31ae170fd71"
      },
      "execution_count": 7,
      "outputs": [
        {
          "output_type": "display_data",
          "data": {
            "text/html": [
              "TRUE"
            ],
            "text/markdown": "TRUE",
            "text/latex": "TRUE",
            "text/plain": [
              "[1] TRUE"
            ]
          },
          "metadata": {}
        }
      ]
    },
    {
      "cell_type": "code",
      "source": [
        "#논리로직 입력\n",
        "z <- 5 > 3"
      ],
      "metadata": {
        "id": "_LHkik24-vgs"
      },
      "execution_count": 8,
      "outputs": []
    },
    {
      "cell_type": "code",
      "source": [
        "str(z)"
      ],
      "metadata": {
        "colab": {
          "base_uri": "https://localhost:8080/"
        },
        "id": "WO4hWByU-1bR",
        "outputId": "9372ad72-e6cb-4709-8597-8522953910cc"
      },
      "execution_count": 9,
      "outputs": [
        {
          "output_type": "stream",
          "name": "stdout",
          "text": [
            " logi TRUE\n"
          ]
        }
      ]
    },
    {
      "cell_type": "code",
      "source": [
        "u <- 6 > 9"
      ],
      "metadata": {
        "id": "6vfYbhde-4D_"
      },
      "execution_count": 10,
      "outputs": []
    },
    {
      "cell_type": "code",
      "source": [
        "#u가 거짓으므로 false 출력\n",
        "u"
      ],
      "metadata": {
        "colab": {
          "base_uri": "https://localhost:8080/",
          "height": 34
        },
        "id": "ue9HXWrx_GhC",
        "outputId": "254528ea-4d5c-4611-c450-da85df4115ce"
      },
      "execution_count": 11,
      "outputs": [
        {
          "output_type": "display_data",
          "data": {
            "text/html": [
              "FALSE"
            ],
            "text/markdown": "FALSE",
            "text/latex": "FALSE",
            "text/plain": [
              "[1] FALSE"
            ]
          },
          "metadata": {}
        }
      ]
    },
    {
      "cell_type": "code",
      "source": [
        "q <- c(\"남자\", \"여자\", \"여자\", \"남자\", \"남자\")"
      ],
      "metadata": {
        "id": "q6glvzg8_HxO"
      },
      "execution_count": 12,
      "outputs": []
    },
    {
      "cell_type": "code",
      "source": [
        "str(q)"
      ],
      "metadata": {
        "colab": {
          "base_uri": "https://localhost:8080/"
        },
        "id": "j9f5GYoC_Ytw",
        "outputId": "501a5ab1-7bed-4652-d497-204b9c0d7c63"
      },
      "execution_count": 14,
      "outputs": [
        {
          "output_type": "stream",
          "name": "stdout",
          "text": [
            " chr [1:5] \"남자\" \"여자\" \"여자\" \"남자\" \"남자\"\n"
          ]
        }
      ]
    },
    {
      "cell_type": "code",
      "source": [
        "?factor"
      ],
      "metadata": {
        "id": "BEnsqJYy_a91"
      },
      "execution_count": 15,
      "outputs": []
    },
    {
      "cell_type": "code",
      "source": [
        "f <- factor (q)"
      ],
      "metadata": {
        "id": "7edOYqkU_iX5"
      },
      "execution_count": 16,
      "outputs": []
    },
    {
      "cell_type": "code",
      "source": [
        "str(f)"
      ],
      "metadata": {
        "colab": {
          "base_uri": "https://localhost:8080/"
        },
        "id": "AR8YMyZ0_15B",
        "outputId": "d2b1990a-0b1e-463a-c84b-bb3eeaf9b2b3"
      },
      "execution_count": 17,
      "outputs": [
        {
          "output_type": "stream",
          "name": "stdout",
          "text": [
            " Factor w/ 2 levels \"남자\",\"여자\": 1 2 2 1 1\n"
          ]
        }
      ]
    },
    {
      "cell_type": "code",
      "source": [
        "?levels"
      ],
      "metadata": {
        "id": "6gdn6hm7_3Hp"
      },
      "execution_count": 18,
      "outputs": []
    },
    {
      "cell_type": "code",
      "source": [
        "nlevels(d)"
      ],
      "metadata": {
        "colab": {
          "base_uri": "https://localhost:8080/",
          "height": 34
        },
        "id": "l2bfEVjBAdri",
        "outputId": "68224a13-04d2-4433-f12b-f59d5fba24ce"
      },
      "execution_count": 23,
      "outputs": [
        {
          "output_type": "display_data",
          "data": {
            "text/html": [
              "4"
            ],
            "text/markdown": "4",
            "text/latex": "4",
            "text/plain": [
              "[1] 4"
            ]
          },
          "metadata": {}
        }
      ]
    },
    {
      "cell_type": "code",
      "source": [
        "diamonds"
      ],
      "metadata": {
        "colab": {
          "base_uri": "https://localhost:8080/",
          "height": 74
        },
        "id": "cf4wUOFwA4Lu",
        "outputId": "c51cd20a-a841-4e09-f24a-37806081be43"
      },
      "execution_count": 24,
      "outputs": [
        {
          "output_type": "error",
          "ename": "ERROR",
          "evalue": "Error: object 'diamonds' not found\n",
          "traceback": [
            "Error: object 'diamonds' not found\nTraceback:\n"
          ]
        }
      ]
    },
    {
      "cell_type": "code",
      "source": [
        "library(ggplot2)"
      ],
      "metadata": {
        "id": "tDdFHZXpBYFP"
      },
      "execution_count": 27,
      "outputs": []
    },
    {
      "cell_type": "code",
      "source": [
        "#설치 방법 하지만 할필요 x\n",
        "#install.packages(ggplot2)\n"
      ],
      "metadata": {
        "colab": {
          "base_uri": "https://localhost:8080/",
          "height": 74
        },
        "id": "faL0dql2BzLn",
        "outputId": "a4158f6c-673c-40a3-cb33-cda37ef00f4c"
      },
      "execution_count": 26,
      "outputs": [
        {
          "output_type": "error",
          "ename": "ERROR",
          "evalue": "Error: object 'diamonds' not found\n",
          "traceback": [
            "Error: object 'diamonds' not found\nTraceback:\n"
          ]
        }
      ]
    },
    {
      "cell_type": "code",
      "source": [
        "diamonds"
      ],
      "metadata": {
        "colab": {
          "base_uri": "https://localhost:8080/",
          "height": 1000
        },
        "id": "5wNIXI-6CKH9",
        "outputId": "154be192-9aee-400c-8ab7-53c3e778ea4d"
      },
      "execution_count": 28,
      "outputs": [
        {
          "output_type": "display_data",
          "data": {
            "text/html": [
              "<table class=\"dataframe\">\n",
              "<caption>A tibble: 53940 × 10</caption>\n",
              "<thead>\n",
              "\t<tr><th scope=col>carat</th><th scope=col>cut</th><th scope=col>color</th><th scope=col>clarity</th><th scope=col>depth</th><th scope=col>table</th><th scope=col>price</th><th scope=col>x</th><th scope=col>y</th><th scope=col>z</th></tr>\n",
              "\t<tr><th scope=col>&lt;dbl&gt;</th><th scope=col>&lt;ord&gt;</th><th scope=col>&lt;ord&gt;</th><th scope=col>&lt;ord&gt;</th><th scope=col>&lt;dbl&gt;</th><th scope=col>&lt;dbl&gt;</th><th scope=col>&lt;int&gt;</th><th scope=col>&lt;dbl&gt;</th><th scope=col>&lt;dbl&gt;</th><th scope=col>&lt;dbl&gt;</th></tr>\n",
              "</thead>\n",
              "<tbody>\n",
              "\t<tr><td>0.23</td><td>Ideal    </td><td>E</td><td>SI2 </td><td>61.5</td><td>55</td><td>326</td><td>3.95</td><td>3.98</td><td>2.43</td></tr>\n",
              "\t<tr><td>0.21</td><td>Premium  </td><td>E</td><td>SI1 </td><td>59.8</td><td>61</td><td>326</td><td>3.89</td><td>3.84</td><td>2.31</td></tr>\n",
              "\t<tr><td>0.23</td><td>Good     </td><td>E</td><td>VS1 </td><td>56.9</td><td>65</td><td>327</td><td>4.05</td><td>4.07</td><td>2.31</td></tr>\n",
              "\t<tr><td>0.29</td><td>Premium  </td><td>I</td><td>VS2 </td><td>62.4</td><td>58</td><td>334</td><td>4.20</td><td>4.23</td><td>2.63</td></tr>\n",
              "\t<tr><td>0.31</td><td>Good     </td><td>J</td><td>SI2 </td><td>63.3</td><td>58</td><td>335</td><td>4.34</td><td>4.35</td><td>2.75</td></tr>\n",
              "\t<tr><td>0.24</td><td>Very Good</td><td>J</td><td>VVS2</td><td>62.8</td><td>57</td><td>336</td><td>3.94</td><td>3.96</td><td>2.48</td></tr>\n",
              "\t<tr><td>0.24</td><td>Very Good</td><td>I</td><td>VVS1</td><td>62.3</td><td>57</td><td>336</td><td>3.95</td><td>3.98</td><td>2.47</td></tr>\n",
              "\t<tr><td>0.26</td><td>Very Good</td><td>H</td><td>SI1 </td><td>61.9</td><td>55</td><td>337</td><td>4.07</td><td>4.11</td><td>2.53</td></tr>\n",
              "\t<tr><td>0.22</td><td>Fair     </td><td>E</td><td>VS2 </td><td>65.1</td><td>61</td><td>337</td><td>3.87</td><td>3.78</td><td>2.49</td></tr>\n",
              "\t<tr><td>0.23</td><td>Very Good</td><td>H</td><td>VS1 </td><td>59.4</td><td>61</td><td>338</td><td>4.00</td><td>4.05</td><td>2.39</td></tr>\n",
              "\t<tr><td>0.30</td><td>Good     </td><td>J</td><td>SI1 </td><td>64.0</td><td>55</td><td>339</td><td>4.25</td><td>4.28</td><td>2.73</td></tr>\n",
              "\t<tr><td>0.23</td><td>Ideal    </td><td>J</td><td>VS1 </td><td>62.8</td><td>56</td><td>340</td><td>3.93</td><td>3.90</td><td>2.46</td></tr>\n",
              "\t<tr><td>0.22</td><td>Premium  </td><td>F</td><td>SI1 </td><td>60.4</td><td>61</td><td>342</td><td>3.88</td><td>3.84</td><td>2.33</td></tr>\n",
              "\t<tr><td>0.31</td><td>Ideal    </td><td>J</td><td>SI2 </td><td>62.2</td><td>54</td><td>344</td><td>4.35</td><td>4.37</td><td>2.71</td></tr>\n",
              "\t<tr><td>0.20</td><td>Premium  </td><td>E</td><td>SI2 </td><td>60.2</td><td>62</td><td>345</td><td>3.79</td><td>3.75</td><td>2.27</td></tr>\n",
              "\t<tr><td>0.32</td><td>Premium  </td><td>E</td><td>I1  </td><td>60.9</td><td>58</td><td>345</td><td>4.38</td><td>4.42</td><td>2.68</td></tr>\n",
              "\t<tr><td>0.30</td><td>Ideal    </td><td>I</td><td>SI2 </td><td>62.0</td><td>54</td><td>348</td><td>4.31</td><td>4.34</td><td>2.68</td></tr>\n",
              "\t<tr><td>0.30</td><td>Good     </td><td>J</td><td>SI1 </td><td>63.4</td><td>54</td><td>351</td><td>4.23</td><td>4.29</td><td>2.70</td></tr>\n",
              "\t<tr><td>0.30</td><td>Good     </td><td>J</td><td>SI1 </td><td>63.8</td><td>56</td><td>351</td><td>4.23</td><td>4.26</td><td>2.71</td></tr>\n",
              "\t<tr><td>0.30</td><td>Very Good</td><td>J</td><td>SI1 </td><td>62.7</td><td>59</td><td>351</td><td>4.21</td><td>4.27</td><td>2.66</td></tr>\n",
              "\t<tr><td>0.30</td><td>Good     </td><td>I</td><td>SI2 </td><td>63.3</td><td>56</td><td>351</td><td>4.26</td><td>4.30</td><td>2.71</td></tr>\n",
              "\t<tr><td>0.23</td><td>Very Good</td><td>E</td><td>VS2 </td><td>63.8</td><td>55</td><td>352</td><td>3.85</td><td>3.92</td><td>2.48</td></tr>\n",
              "\t<tr><td>0.23</td><td>Very Good</td><td>H</td><td>VS1 </td><td>61.0</td><td>57</td><td>353</td><td>3.94</td><td>3.96</td><td>2.41</td></tr>\n",
              "\t<tr><td>0.31</td><td>Very Good</td><td>J</td><td>SI1 </td><td>59.4</td><td>62</td><td>353</td><td>4.39</td><td>4.43</td><td>2.62</td></tr>\n",
              "\t<tr><td>0.31</td><td>Very Good</td><td>J</td><td>SI1 </td><td>58.1</td><td>62</td><td>353</td><td>4.44</td><td>4.47</td><td>2.59</td></tr>\n",
              "\t<tr><td>0.23</td><td>Very Good</td><td>G</td><td>VVS2</td><td>60.4</td><td>58</td><td>354</td><td>3.97</td><td>4.01</td><td>2.41</td></tr>\n",
              "\t<tr><td>0.24</td><td>Premium  </td><td>I</td><td>VS1 </td><td>62.5</td><td>57</td><td>355</td><td>3.97</td><td>3.94</td><td>2.47</td></tr>\n",
              "\t<tr><td>0.30</td><td>Very Good</td><td>J</td><td>VS2 </td><td>62.2</td><td>57</td><td>357</td><td>4.28</td><td>4.30</td><td>2.67</td></tr>\n",
              "\t<tr><td>0.23</td><td>Very Good</td><td>D</td><td>VS2 </td><td>60.5</td><td>61</td><td>357</td><td>3.96</td><td>3.97</td><td>2.40</td></tr>\n",
              "\t<tr><td>0.23</td><td>Very Good</td><td>F</td><td>VS1 </td><td>60.9</td><td>57</td><td>357</td><td>3.96</td><td>3.99</td><td>2.42</td></tr>\n",
              "\t<tr><td>⋮</td><td>⋮</td><td>⋮</td><td>⋮</td><td>⋮</td><td>⋮</td><td>⋮</td><td>⋮</td><td>⋮</td><td>⋮</td></tr>\n",
              "\t<tr><td>0.70</td><td>Premium  </td><td>E</td><td>SI1 </td><td>60.5</td><td>58</td><td>2753</td><td>5.74</td><td>5.77</td><td>3.48</td></tr>\n",
              "\t<tr><td>0.57</td><td>Premium  </td><td>E</td><td>IF  </td><td>59.8</td><td>60</td><td>2753</td><td>5.43</td><td>5.38</td><td>3.23</td></tr>\n",
              "\t<tr><td>0.61</td><td>Premium  </td><td>F</td><td>VVS1</td><td>61.8</td><td>59</td><td>2753</td><td>5.48</td><td>5.40</td><td>3.36</td></tr>\n",
              "\t<tr><td>0.80</td><td>Good     </td><td>G</td><td>VS2 </td><td>64.2</td><td>58</td><td>2753</td><td>5.84</td><td>5.81</td><td>3.74</td></tr>\n",
              "\t<tr><td>0.84</td><td>Good     </td><td>I</td><td>VS1 </td><td>63.7</td><td>59</td><td>2753</td><td>5.94</td><td>5.90</td><td>3.77</td></tr>\n",
              "\t<tr><td>0.77</td><td>Ideal    </td><td>E</td><td>SI2 </td><td>62.1</td><td>56</td><td>2753</td><td>5.84</td><td>5.86</td><td>3.63</td></tr>\n",
              "\t<tr><td>0.74</td><td>Good     </td><td>D</td><td>SI1 </td><td>63.1</td><td>59</td><td>2753</td><td>5.71</td><td>5.74</td><td>3.61</td></tr>\n",
              "\t<tr><td>0.90</td><td>Very Good</td><td>J</td><td>SI1 </td><td>63.2</td><td>60</td><td>2753</td><td>6.12</td><td>6.09</td><td>3.86</td></tr>\n",
              "\t<tr><td>0.76</td><td>Premium  </td><td>I</td><td>VS1 </td><td>59.3</td><td>62</td><td>2753</td><td>5.93</td><td>5.85</td><td>3.49</td></tr>\n",
              "\t<tr><td>0.76</td><td>Ideal    </td><td>I</td><td>VVS1</td><td>62.2</td><td>55</td><td>2753</td><td>5.89</td><td>5.87</td><td>3.66</td></tr>\n",
              "\t<tr><td>0.70</td><td>Very Good</td><td>E</td><td>VS2 </td><td>62.4</td><td>60</td><td>2755</td><td>5.57</td><td>5.61</td><td>3.49</td></tr>\n",
              "\t<tr><td>0.70</td><td>Very Good</td><td>E</td><td>VS2 </td><td>62.8</td><td>60</td><td>2755</td><td>5.59</td><td>5.65</td><td>3.53</td></tr>\n",
              "\t<tr><td>0.70</td><td>Very Good</td><td>D</td><td>VS1 </td><td>63.1</td><td>59</td><td>2755</td><td>5.67</td><td>5.58</td><td>3.55</td></tr>\n",
              "\t<tr><td>0.73</td><td>Ideal    </td><td>I</td><td>VS2 </td><td>61.3</td><td>56</td><td>2756</td><td>5.80</td><td>5.84</td><td>3.57</td></tr>\n",
              "\t<tr><td>0.73</td><td>Ideal    </td><td>I</td><td>VS2 </td><td>61.6</td><td>55</td><td>2756</td><td>5.82</td><td>5.84</td><td>3.59</td></tr>\n",
              "\t<tr><td>0.79</td><td>Ideal    </td><td>I</td><td>SI1 </td><td>61.6</td><td>56</td><td>2756</td><td>5.95</td><td>5.97</td><td>3.67</td></tr>\n",
              "\t<tr><td>0.71</td><td>Ideal    </td><td>E</td><td>SI1 </td><td>61.9</td><td>56</td><td>2756</td><td>5.71</td><td>5.73</td><td>3.54</td></tr>\n",
              "\t<tr><td>0.79</td><td>Good     </td><td>F</td><td>SI1 </td><td>58.1</td><td>59</td><td>2756</td><td>6.06</td><td>6.13</td><td>3.54</td></tr>\n",
              "\t<tr><td>0.79</td><td>Premium  </td><td>E</td><td>SI2 </td><td>61.4</td><td>58</td><td>2756</td><td>6.03</td><td>5.96</td><td>3.68</td></tr>\n",
              "\t<tr><td>0.71</td><td>Ideal    </td><td>G</td><td>VS1 </td><td>61.4</td><td>56</td><td>2756</td><td>5.76</td><td>5.73</td><td>3.53</td></tr>\n",
              "\t<tr><td>0.71</td><td>Premium  </td><td>E</td><td>SI1 </td><td>60.5</td><td>55</td><td>2756</td><td>5.79</td><td>5.74</td><td>3.49</td></tr>\n",
              "\t<tr><td>0.71</td><td>Premium  </td><td>F</td><td>SI1 </td><td>59.8</td><td>62</td><td>2756</td><td>5.74</td><td>5.73</td><td>3.43</td></tr>\n",
              "\t<tr><td>0.70</td><td>Very Good</td><td>E</td><td>VS2 </td><td>60.5</td><td>59</td><td>2757</td><td>5.71</td><td>5.76</td><td>3.47</td></tr>\n",
              "\t<tr><td>0.70</td><td>Very Good</td><td>E</td><td>VS2 </td><td>61.2</td><td>59</td><td>2757</td><td>5.69</td><td>5.72</td><td>3.49</td></tr>\n",
              "\t<tr><td>0.72</td><td>Premium  </td><td>D</td><td>SI1 </td><td>62.7</td><td>59</td><td>2757</td><td>5.69</td><td>5.73</td><td>3.58</td></tr>\n",
              "\t<tr><td>0.72</td><td>Ideal    </td><td>D</td><td>SI1 </td><td>60.8</td><td>57</td><td>2757</td><td>5.75</td><td>5.76</td><td>3.50</td></tr>\n",
              "\t<tr><td>0.72</td><td>Good     </td><td>D</td><td>SI1 </td><td>63.1</td><td>55</td><td>2757</td><td>5.69</td><td>5.75</td><td>3.61</td></tr>\n",
              "\t<tr><td>0.70</td><td>Very Good</td><td>D</td><td>SI1 </td><td>62.8</td><td>60</td><td>2757</td><td>5.66</td><td>5.68</td><td>3.56</td></tr>\n",
              "\t<tr><td>0.86</td><td>Premium  </td><td>H</td><td>SI2 </td><td>61.0</td><td>58</td><td>2757</td><td>6.15</td><td>6.12</td><td>3.74</td></tr>\n",
              "\t<tr><td>0.75</td><td>Ideal    </td><td>D</td><td>SI2 </td><td>62.2</td><td>55</td><td>2757</td><td>5.83</td><td>5.87</td><td>3.64</td></tr>\n",
              "</tbody>\n",
              "</table>\n"
            ],
            "text/markdown": "\nA tibble: 53940 × 10\n\n| carat &lt;dbl&gt; | cut &lt;ord&gt; | color &lt;ord&gt; | clarity &lt;ord&gt; | depth &lt;dbl&gt; | table &lt;dbl&gt; | price &lt;int&gt; | x &lt;dbl&gt; | y &lt;dbl&gt; | z &lt;dbl&gt; |\n|---|---|---|---|---|---|---|---|---|---|\n| 0.23 | Ideal     | E | SI2  | 61.5 | 55 | 326 | 3.95 | 3.98 | 2.43 |\n| 0.21 | Premium   | E | SI1  | 59.8 | 61 | 326 | 3.89 | 3.84 | 2.31 |\n| 0.23 | Good      | E | VS1  | 56.9 | 65 | 327 | 4.05 | 4.07 | 2.31 |\n| 0.29 | Premium   | I | VS2  | 62.4 | 58 | 334 | 4.20 | 4.23 | 2.63 |\n| 0.31 | Good      | J | SI2  | 63.3 | 58 | 335 | 4.34 | 4.35 | 2.75 |\n| 0.24 | Very Good | J | VVS2 | 62.8 | 57 | 336 | 3.94 | 3.96 | 2.48 |\n| 0.24 | Very Good | I | VVS1 | 62.3 | 57 | 336 | 3.95 | 3.98 | 2.47 |\n| 0.26 | Very Good | H | SI1  | 61.9 | 55 | 337 | 4.07 | 4.11 | 2.53 |\n| 0.22 | Fair      | E | VS2  | 65.1 | 61 | 337 | 3.87 | 3.78 | 2.49 |\n| 0.23 | Very Good | H | VS1  | 59.4 | 61 | 338 | 4.00 | 4.05 | 2.39 |\n| 0.30 | Good      | J | SI1  | 64.0 | 55 | 339 | 4.25 | 4.28 | 2.73 |\n| 0.23 | Ideal     | J | VS1  | 62.8 | 56 | 340 | 3.93 | 3.90 | 2.46 |\n| 0.22 | Premium   | F | SI1  | 60.4 | 61 | 342 | 3.88 | 3.84 | 2.33 |\n| 0.31 | Ideal     | J | SI2  | 62.2 | 54 | 344 | 4.35 | 4.37 | 2.71 |\n| 0.20 | Premium   | E | SI2  | 60.2 | 62 | 345 | 3.79 | 3.75 | 2.27 |\n| 0.32 | Premium   | E | I1   | 60.9 | 58 | 345 | 4.38 | 4.42 | 2.68 |\n| 0.30 | Ideal     | I | SI2  | 62.0 | 54 | 348 | 4.31 | 4.34 | 2.68 |\n| 0.30 | Good      | J | SI1  | 63.4 | 54 | 351 | 4.23 | 4.29 | 2.70 |\n| 0.30 | Good      | J | SI1  | 63.8 | 56 | 351 | 4.23 | 4.26 | 2.71 |\n| 0.30 | Very Good | J | SI1  | 62.7 | 59 | 351 | 4.21 | 4.27 | 2.66 |\n| 0.30 | Good      | I | SI2  | 63.3 | 56 | 351 | 4.26 | 4.30 | 2.71 |\n| 0.23 | Very Good | E | VS2  | 63.8 | 55 | 352 | 3.85 | 3.92 | 2.48 |\n| 0.23 | Very Good | H | VS1  | 61.0 | 57 | 353 | 3.94 | 3.96 | 2.41 |\n| 0.31 | Very Good | J | SI1  | 59.4 | 62 | 353 | 4.39 | 4.43 | 2.62 |\n| 0.31 | Very Good | J | SI1  | 58.1 | 62 | 353 | 4.44 | 4.47 | 2.59 |\n| 0.23 | Very Good | G | VVS2 | 60.4 | 58 | 354 | 3.97 | 4.01 | 2.41 |\n| 0.24 | Premium   | I | VS1  | 62.5 | 57 | 355 | 3.97 | 3.94 | 2.47 |\n| 0.30 | Very Good | J | VS2  | 62.2 | 57 | 357 | 4.28 | 4.30 | 2.67 |\n| 0.23 | Very Good | D | VS2  | 60.5 | 61 | 357 | 3.96 | 3.97 | 2.40 |\n| 0.23 | Very Good | F | VS1  | 60.9 | 57 | 357 | 3.96 | 3.99 | 2.42 |\n| ⋮ | ⋮ | ⋮ | ⋮ | ⋮ | ⋮ | ⋮ | ⋮ | ⋮ | ⋮ |\n| 0.70 | Premium   | E | SI1  | 60.5 | 58 | 2753 | 5.74 | 5.77 | 3.48 |\n| 0.57 | Premium   | E | IF   | 59.8 | 60 | 2753 | 5.43 | 5.38 | 3.23 |\n| 0.61 | Premium   | F | VVS1 | 61.8 | 59 | 2753 | 5.48 | 5.40 | 3.36 |\n| 0.80 | Good      | G | VS2  | 64.2 | 58 | 2753 | 5.84 | 5.81 | 3.74 |\n| 0.84 | Good      | I | VS1  | 63.7 | 59 | 2753 | 5.94 | 5.90 | 3.77 |\n| 0.77 | Ideal     | E | SI2  | 62.1 | 56 | 2753 | 5.84 | 5.86 | 3.63 |\n| 0.74 | Good      | D | SI1  | 63.1 | 59 | 2753 | 5.71 | 5.74 | 3.61 |\n| 0.90 | Very Good | J | SI1  | 63.2 | 60 | 2753 | 6.12 | 6.09 | 3.86 |\n| 0.76 | Premium   | I | VS1  | 59.3 | 62 | 2753 | 5.93 | 5.85 | 3.49 |\n| 0.76 | Ideal     | I | VVS1 | 62.2 | 55 | 2753 | 5.89 | 5.87 | 3.66 |\n| 0.70 | Very Good | E | VS2  | 62.4 | 60 | 2755 | 5.57 | 5.61 | 3.49 |\n| 0.70 | Very Good | E | VS2  | 62.8 | 60 | 2755 | 5.59 | 5.65 | 3.53 |\n| 0.70 | Very Good | D | VS1  | 63.1 | 59 | 2755 | 5.67 | 5.58 | 3.55 |\n| 0.73 | Ideal     | I | VS2  | 61.3 | 56 | 2756 | 5.80 | 5.84 | 3.57 |\n| 0.73 | Ideal     | I | VS2  | 61.6 | 55 | 2756 | 5.82 | 5.84 | 3.59 |\n| 0.79 | Ideal     | I | SI1  | 61.6 | 56 | 2756 | 5.95 | 5.97 | 3.67 |\n| 0.71 | Ideal     | E | SI1  | 61.9 | 56 | 2756 | 5.71 | 5.73 | 3.54 |\n| 0.79 | Good      | F | SI1  | 58.1 | 59 | 2756 | 6.06 | 6.13 | 3.54 |\n| 0.79 | Premium   | E | SI2  | 61.4 | 58 | 2756 | 6.03 | 5.96 | 3.68 |\n| 0.71 | Ideal     | G | VS1  | 61.4 | 56 | 2756 | 5.76 | 5.73 | 3.53 |\n| 0.71 | Premium   | E | SI1  | 60.5 | 55 | 2756 | 5.79 | 5.74 | 3.49 |\n| 0.71 | Premium   | F | SI1  | 59.8 | 62 | 2756 | 5.74 | 5.73 | 3.43 |\n| 0.70 | Very Good | E | VS2  | 60.5 | 59 | 2757 | 5.71 | 5.76 | 3.47 |\n| 0.70 | Very Good | E | VS2  | 61.2 | 59 | 2757 | 5.69 | 5.72 | 3.49 |\n| 0.72 | Premium   | D | SI1  | 62.7 | 59 | 2757 | 5.69 | 5.73 | 3.58 |\n| 0.72 | Ideal     | D | SI1  | 60.8 | 57 | 2757 | 5.75 | 5.76 | 3.50 |\n| 0.72 | Good      | D | SI1  | 63.1 | 55 | 2757 | 5.69 | 5.75 | 3.61 |\n| 0.70 | Very Good | D | SI1  | 62.8 | 60 | 2757 | 5.66 | 5.68 | 3.56 |\n| 0.86 | Premium   | H | SI2  | 61.0 | 58 | 2757 | 6.15 | 6.12 | 3.74 |\n| 0.75 | Ideal     | D | SI2  | 62.2 | 55 | 2757 | 5.83 | 5.87 | 3.64 |\n\n",
            "text/latex": "A tibble: 53940 × 10\n\\begin{tabular}{llllllllll}\n carat & cut & color & clarity & depth & table & price & x & y & z\\\\\n <dbl> & <ord> & <ord> & <ord> & <dbl> & <dbl> & <int> & <dbl> & <dbl> & <dbl>\\\\\n\\hline\n\t 0.23 & Ideal     & E & SI2  & 61.5 & 55 & 326 & 3.95 & 3.98 & 2.43\\\\\n\t 0.21 & Premium   & E & SI1  & 59.8 & 61 & 326 & 3.89 & 3.84 & 2.31\\\\\n\t 0.23 & Good      & E & VS1  & 56.9 & 65 & 327 & 4.05 & 4.07 & 2.31\\\\\n\t 0.29 & Premium   & I & VS2  & 62.4 & 58 & 334 & 4.20 & 4.23 & 2.63\\\\\n\t 0.31 & Good      & J & SI2  & 63.3 & 58 & 335 & 4.34 & 4.35 & 2.75\\\\\n\t 0.24 & Very Good & J & VVS2 & 62.8 & 57 & 336 & 3.94 & 3.96 & 2.48\\\\\n\t 0.24 & Very Good & I & VVS1 & 62.3 & 57 & 336 & 3.95 & 3.98 & 2.47\\\\\n\t 0.26 & Very Good & H & SI1  & 61.9 & 55 & 337 & 4.07 & 4.11 & 2.53\\\\\n\t 0.22 & Fair      & E & VS2  & 65.1 & 61 & 337 & 3.87 & 3.78 & 2.49\\\\\n\t 0.23 & Very Good & H & VS1  & 59.4 & 61 & 338 & 4.00 & 4.05 & 2.39\\\\\n\t 0.30 & Good      & J & SI1  & 64.0 & 55 & 339 & 4.25 & 4.28 & 2.73\\\\\n\t 0.23 & Ideal     & J & VS1  & 62.8 & 56 & 340 & 3.93 & 3.90 & 2.46\\\\\n\t 0.22 & Premium   & F & SI1  & 60.4 & 61 & 342 & 3.88 & 3.84 & 2.33\\\\\n\t 0.31 & Ideal     & J & SI2  & 62.2 & 54 & 344 & 4.35 & 4.37 & 2.71\\\\\n\t 0.20 & Premium   & E & SI2  & 60.2 & 62 & 345 & 3.79 & 3.75 & 2.27\\\\\n\t 0.32 & Premium   & E & I1   & 60.9 & 58 & 345 & 4.38 & 4.42 & 2.68\\\\\n\t 0.30 & Ideal     & I & SI2  & 62.0 & 54 & 348 & 4.31 & 4.34 & 2.68\\\\\n\t 0.30 & Good      & J & SI1  & 63.4 & 54 & 351 & 4.23 & 4.29 & 2.70\\\\\n\t 0.30 & Good      & J & SI1  & 63.8 & 56 & 351 & 4.23 & 4.26 & 2.71\\\\\n\t 0.30 & Very Good & J & SI1  & 62.7 & 59 & 351 & 4.21 & 4.27 & 2.66\\\\\n\t 0.30 & Good      & I & SI2  & 63.3 & 56 & 351 & 4.26 & 4.30 & 2.71\\\\\n\t 0.23 & Very Good & E & VS2  & 63.8 & 55 & 352 & 3.85 & 3.92 & 2.48\\\\\n\t 0.23 & Very Good & H & VS1  & 61.0 & 57 & 353 & 3.94 & 3.96 & 2.41\\\\\n\t 0.31 & Very Good & J & SI1  & 59.4 & 62 & 353 & 4.39 & 4.43 & 2.62\\\\\n\t 0.31 & Very Good & J & SI1  & 58.1 & 62 & 353 & 4.44 & 4.47 & 2.59\\\\\n\t 0.23 & Very Good & G & VVS2 & 60.4 & 58 & 354 & 3.97 & 4.01 & 2.41\\\\\n\t 0.24 & Premium   & I & VS1  & 62.5 & 57 & 355 & 3.97 & 3.94 & 2.47\\\\\n\t 0.30 & Very Good & J & VS2  & 62.2 & 57 & 357 & 4.28 & 4.30 & 2.67\\\\\n\t 0.23 & Very Good & D & VS2  & 60.5 & 61 & 357 & 3.96 & 3.97 & 2.40\\\\\n\t 0.23 & Very Good & F & VS1  & 60.9 & 57 & 357 & 3.96 & 3.99 & 2.42\\\\\n\t ⋮ & ⋮ & ⋮ & ⋮ & ⋮ & ⋮ & ⋮ & ⋮ & ⋮ & ⋮\\\\\n\t 0.70 & Premium   & E & SI1  & 60.5 & 58 & 2753 & 5.74 & 5.77 & 3.48\\\\\n\t 0.57 & Premium   & E & IF   & 59.8 & 60 & 2753 & 5.43 & 5.38 & 3.23\\\\\n\t 0.61 & Premium   & F & VVS1 & 61.8 & 59 & 2753 & 5.48 & 5.40 & 3.36\\\\\n\t 0.80 & Good      & G & VS2  & 64.2 & 58 & 2753 & 5.84 & 5.81 & 3.74\\\\\n\t 0.84 & Good      & I & VS1  & 63.7 & 59 & 2753 & 5.94 & 5.90 & 3.77\\\\\n\t 0.77 & Ideal     & E & SI2  & 62.1 & 56 & 2753 & 5.84 & 5.86 & 3.63\\\\\n\t 0.74 & Good      & D & SI1  & 63.1 & 59 & 2753 & 5.71 & 5.74 & 3.61\\\\\n\t 0.90 & Very Good & J & SI1  & 63.2 & 60 & 2753 & 6.12 & 6.09 & 3.86\\\\\n\t 0.76 & Premium   & I & VS1  & 59.3 & 62 & 2753 & 5.93 & 5.85 & 3.49\\\\\n\t 0.76 & Ideal     & I & VVS1 & 62.2 & 55 & 2753 & 5.89 & 5.87 & 3.66\\\\\n\t 0.70 & Very Good & E & VS2  & 62.4 & 60 & 2755 & 5.57 & 5.61 & 3.49\\\\\n\t 0.70 & Very Good & E & VS2  & 62.8 & 60 & 2755 & 5.59 & 5.65 & 3.53\\\\\n\t 0.70 & Very Good & D & VS1  & 63.1 & 59 & 2755 & 5.67 & 5.58 & 3.55\\\\\n\t 0.73 & Ideal     & I & VS2  & 61.3 & 56 & 2756 & 5.80 & 5.84 & 3.57\\\\\n\t 0.73 & Ideal     & I & VS2  & 61.6 & 55 & 2756 & 5.82 & 5.84 & 3.59\\\\\n\t 0.79 & Ideal     & I & SI1  & 61.6 & 56 & 2756 & 5.95 & 5.97 & 3.67\\\\\n\t 0.71 & Ideal     & E & SI1  & 61.9 & 56 & 2756 & 5.71 & 5.73 & 3.54\\\\\n\t 0.79 & Good      & F & SI1  & 58.1 & 59 & 2756 & 6.06 & 6.13 & 3.54\\\\\n\t 0.79 & Premium   & E & SI2  & 61.4 & 58 & 2756 & 6.03 & 5.96 & 3.68\\\\\n\t 0.71 & Ideal     & G & VS1  & 61.4 & 56 & 2756 & 5.76 & 5.73 & 3.53\\\\\n\t 0.71 & Premium   & E & SI1  & 60.5 & 55 & 2756 & 5.79 & 5.74 & 3.49\\\\\n\t 0.71 & Premium   & F & SI1  & 59.8 & 62 & 2756 & 5.74 & 5.73 & 3.43\\\\\n\t 0.70 & Very Good & E & VS2  & 60.5 & 59 & 2757 & 5.71 & 5.76 & 3.47\\\\\n\t 0.70 & Very Good & E & VS2  & 61.2 & 59 & 2757 & 5.69 & 5.72 & 3.49\\\\\n\t 0.72 & Premium   & D & SI1  & 62.7 & 59 & 2757 & 5.69 & 5.73 & 3.58\\\\\n\t 0.72 & Ideal     & D & SI1  & 60.8 & 57 & 2757 & 5.75 & 5.76 & 3.50\\\\\n\t 0.72 & Good      & D & SI1  & 63.1 & 55 & 2757 & 5.69 & 5.75 & 3.61\\\\\n\t 0.70 & Very Good & D & SI1  & 62.8 & 60 & 2757 & 5.66 & 5.68 & 3.56\\\\\n\t 0.86 & Premium   & H & SI2  & 61.0 & 58 & 2757 & 6.15 & 6.12 & 3.74\\\\\n\t 0.75 & Ideal     & D & SI2  & 62.2 & 55 & 2757 & 5.83 & 5.87 & 3.64\\\\\n\\end{tabular}\n",
            "text/plain": [
              "      carat cut       color clarity depth table price x    y    z   \n",
              "1     0.23  Ideal     E     SI2     61.5  55    326   3.95 3.98 2.43\n",
              "2     0.21  Premium   E     SI1     59.8  61    326   3.89 3.84 2.31\n",
              "3     0.23  Good      E     VS1     56.9  65    327   4.05 4.07 2.31\n",
              "4     0.29  Premium   I     VS2     62.4  58    334   4.20 4.23 2.63\n",
              "5     0.31  Good      J     SI2     63.3  58    335   4.34 4.35 2.75\n",
              "6     0.24  Very Good J     VVS2    62.8  57    336   3.94 3.96 2.48\n",
              "7     0.24  Very Good I     VVS1    62.3  57    336   3.95 3.98 2.47\n",
              "8     0.26  Very Good H     SI1     61.9  55    337   4.07 4.11 2.53\n",
              "9     0.22  Fair      E     VS2     65.1  61    337   3.87 3.78 2.49\n",
              "10    0.23  Very Good H     VS1     59.4  61    338   4.00 4.05 2.39\n",
              "11    0.30  Good      J     SI1     64.0  55    339   4.25 4.28 2.73\n",
              "12    0.23  Ideal     J     VS1     62.8  56    340   3.93 3.90 2.46\n",
              "13    0.22  Premium   F     SI1     60.4  61    342   3.88 3.84 2.33\n",
              "14    0.31  Ideal     J     SI2     62.2  54    344   4.35 4.37 2.71\n",
              "15    0.20  Premium   E     SI2     60.2  62    345   3.79 3.75 2.27\n",
              "16    0.32  Premium   E     I1      60.9  58    345   4.38 4.42 2.68\n",
              "17    0.30  Ideal     I     SI2     62.0  54    348   4.31 4.34 2.68\n",
              "18    0.30  Good      J     SI1     63.4  54    351   4.23 4.29 2.70\n",
              "19    0.30  Good      J     SI1     63.8  56    351   4.23 4.26 2.71\n",
              "20    0.30  Very Good J     SI1     62.7  59    351   4.21 4.27 2.66\n",
              "21    0.30  Good      I     SI2     63.3  56    351   4.26 4.30 2.71\n",
              "22    0.23  Very Good E     VS2     63.8  55    352   3.85 3.92 2.48\n",
              "23    0.23  Very Good H     VS1     61.0  57    353   3.94 3.96 2.41\n",
              "24    0.31  Very Good J     SI1     59.4  62    353   4.39 4.43 2.62\n",
              "25    0.31  Very Good J     SI1     58.1  62    353   4.44 4.47 2.59\n",
              "26    0.23  Very Good G     VVS2    60.4  58    354   3.97 4.01 2.41\n",
              "27    0.24  Premium   I     VS1     62.5  57    355   3.97 3.94 2.47\n",
              "28    0.30  Very Good J     VS2     62.2  57    357   4.28 4.30 2.67\n",
              "29    0.23  Very Good D     VS2     60.5  61    357   3.96 3.97 2.40\n",
              "30    0.23  Very Good F     VS1     60.9  57    357   3.96 3.99 2.42\n",
              "⋮     ⋮     ⋮         ⋮     ⋮       ⋮     ⋮     ⋮     ⋮    ⋮    ⋮   \n",
              "53911 0.70  Premium   E     SI1     60.5  58    2753  5.74 5.77 3.48\n",
              "53912 0.57  Premium   E     IF      59.8  60    2753  5.43 5.38 3.23\n",
              "53913 0.61  Premium   F     VVS1    61.8  59    2753  5.48 5.40 3.36\n",
              "53914 0.80  Good      G     VS2     64.2  58    2753  5.84 5.81 3.74\n",
              "53915 0.84  Good      I     VS1     63.7  59    2753  5.94 5.90 3.77\n",
              "53916 0.77  Ideal     E     SI2     62.1  56    2753  5.84 5.86 3.63\n",
              "53917 0.74  Good      D     SI1     63.1  59    2753  5.71 5.74 3.61\n",
              "53918 0.90  Very Good J     SI1     63.2  60    2753  6.12 6.09 3.86\n",
              "53919 0.76  Premium   I     VS1     59.3  62    2753  5.93 5.85 3.49\n",
              "53920 0.76  Ideal     I     VVS1    62.2  55    2753  5.89 5.87 3.66\n",
              "53921 0.70  Very Good E     VS2     62.4  60    2755  5.57 5.61 3.49\n",
              "53922 0.70  Very Good E     VS2     62.8  60    2755  5.59 5.65 3.53\n",
              "53923 0.70  Very Good D     VS1     63.1  59    2755  5.67 5.58 3.55\n",
              "53924 0.73  Ideal     I     VS2     61.3  56    2756  5.80 5.84 3.57\n",
              "53925 0.73  Ideal     I     VS2     61.6  55    2756  5.82 5.84 3.59\n",
              "53926 0.79  Ideal     I     SI1     61.6  56    2756  5.95 5.97 3.67\n",
              "53927 0.71  Ideal     E     SI1     61.9  56    2756  5.71 5.73 3.54\n",
              "53928 0.79  Good      F     SI1     58.1  59    2756  6.06 6.13 3.54\n",
              "53929 0.79  Premium   E     SI2     61.4  58    2756  6.03 5.96 3.68\n",
              "53930 0.71  Ideal     G     VS1     61.4  56    2756  5.76 5.73 3.53\n",
              "53931 0.71  Premium   E     SI1     60.5  55    2756  5.79 5.74 3.49\n",
              "53932 0.71  Premium   F     SI1     59.8  62    2756  5.74 5.73 3.43\n",
              "53933 0.70  Very Good E     VS2     60.5  59    2757  5.71 5.76 3.47\n",
              "53934 0.70  Very Good E     VS2     61.2  59    2757  5.69 5.72 3.49\n",
              "53935 0.72  Premium   D     SI1     62.7  59    2757  5.69 5.73 3.58\n",
              "53936 0.72  Ideal     D     SI1     60.8  57    2757  5.75 5.76 3.50\n",
              "53937 0.72  Good      D     SI1     63.1  55    2757  5.69 5.75 3.61\n",
              "53938 0.70  Very Good D     SI1     62.8  60    2757  5.66 5.68 3.56\n",
              "53939 0.86  Premium   H     SI2     61.0  58    2757  6.15 6.12 3.74\n",
              "53940 0.75  Ideal     D     SI2     62.2  55    2757  5.83 5.87 3.64"
            ]
          },
          "metadata": {}
        }
      ]
    },
    {
      "cell_type": "code",
      "source": [
        "#보여 달라. view(diamonds)"
      ],
      "metadata": {
        "id": "rXcDihVYCIQn"
      },
      "execution_count": 29,
      "outputs": []
    },
    {
      "cell_type": "code",
      "source": [
        "price <- diamonds$price"
      ],
      "metadata": {
        "id": "6yKchii3EHiX"
      },
      "execution_count": 30,
      "outputs": []
    },
    {
      "cell_type": "code",
      "source": [
        "str(price)"
      ],
      "metadata": {
        "colab": {
          "base_uri": "https://localhost:8080/"
        },
        "id": "WA-uI3u8EZnc",
        "outputId": "9c506d04-c0e5-410d-b6c2-0c4c35bc6a15"
      },
      "execution_count": 31,
      "outputs": [
        {
          "output_type": "stream",
          "name": "stdout",
          "text": [
            " int [1:53940] 326 326 327 334 335 336 336 337 337 338 ...\n"
          ]
        }
      ]
    },
    {
      "cell_type": "code",
      "source": [
        "cl <- diamonds$clarity"
      ],
      "metadata": {
        "id": "2Q740-G2Ebyz"
      },
      "execution_count": 32,
      "outputs": []
    },
    {
      "cell_type": "code",
      "source": [
        "str(cl)"
      ],
      "metadata": {
        "colab": {
          "base_uri": "https://localhost:8080/"
        },
        "id": "2EOpaP1QEqgq",
        "outputId": "54cc7987-a3ef-4eeb-f402-405f4d27dae0"
      },
      "execution_count": 34,
      "outputs": [
        {
          "output_type": "stream",
          "name": "stdout",
          "text": [
            " Ord.factor w/ 8 levels \"I1\"<\"SI2\"<\"SI1\"<..: 2 3 5 4 2 6 7 3 4 5 ...\n"
          ]
        }
      ]
    },
    {
      "cell_type": "code",
      "source": [
        "levels(cl)"
      ],
      "metadata": {
        "colab": {
          "base_uri": "https://localhost:8080/",
          "height": 34
        },
        "id": "gTHjzT0bEu28",
        "outputId": "ea5067cd-b218-42e4-dc99-929f83dbd2e0"
      },
      "execution_count": 35,
      "outputs": [
        {
          "output_type": "display_data",
          "data": {
            "text/html": [
              "<style>\n",
              ".list-inline {list-style: none; margin:0; padding: 0}\n",
              ".list-inline>li {display: inline-block}\n",
              ".list-inline>li:not(:last-child)::after {content: \"\\00b7\"; padding: 0 .5ex}\n",
              "</style>\n",
              "<ol class=list-inline><li>'I1'</li><li>'SI2'</li><li>'SI1'</li><li>'VS2'</li><li>'VS1'</li><li>'VVS2'</li><li>'VVS1'</li><li>'IF'</li></ol>\n"
            ],
            "text/markdown": "1. 'I1'\n2. 'SI2'\n3. 'SI1'\n4. 'VS2'\n5. 'VS1'\n6. 'VVS2'\n7. 'VVS1'\n8. 'IF'\n\n\n",
            "text/latex": "\\begin{enumerate*}\n\\item 'I1'\n\\item 'SI2'\n\\item 'SI1'\n\\item 'VS2'\n\\item 'VS1'\n\\item 'VVS2'\n\\item 'VVS1'\n\\item 'IF'\n\\end{enumerate*}\n",
            "text/plain": [
              "[1] \"I1\"   \"SI2\"  \"SI1\"  \"VS2\"  \"VS1\"  \"VVS2\" \"VVS1\" \"IF\"  "
            ]
          },
          "metadata": {}
        }
      ]
    },
    {
      "cell_type": "code",
      "source": [
        "nlevels(cl)"
      ],
      "metadata": {
        "colab": {
          "base_uri": "https://localhost:8080/",
          "height": 34
        },
        "id": "aVX-YkNmE2iP",
        "outputId": "b4ce824e-bcc5-4530-c16e-2ef243ecccc1"
      },
      "execution_count": 36,
      "outputs": [
        {
          "output_type": "display_data",
          "data": {
            "text/html": [
              "8"
            ],
            "text/markdown": "8",
            "text/latex": "8",
            "text/plain": [
              "[1] 8"
            ]
          },
          "metadata": {}
        }
      ]
    },
    {
      "cell_type": "code",
      "source": [
        "mean(price)"
      ],
      "metadata": {
        "colab": {
          "base_uri": "https://localhost:8080/",
          "height": 34
        },
        "id": "LF-wivXrE554",
        "outputId": "7bf22b5d-9b44-496d-bac9-dd4a844d47ce"
      },
      "execution_count": 37,
      "outputs": [
        {
          "output_type": "display_data",
          "data": {
            "text/html": [
              "3932.79972191324"
            ],
            "text/markdown": "3932.79972191324",
            "text/latex": "3932.79972191324",
            "text/plain": [
              "[1] 3932.8"
            ]
          },
          "metadata": {}
        }
      ]
    },
    {
      "cell_type": "code",
      "source": [
        "median(price)"
      ],
      "metadata": {
        "colab": {
          "base_uri": "https://localhost:8080/",
          "height": 34
        },
        "id": "J8E5EdqMFLsa",
        "outputId": "66eb8364-f8f0-41a6-f928-89f9040666b6"
      },
      "execution_count": 38,
      "outputs": [
        {
          "output_type": "display_data",
          "data": {
            "text/html": [
              "2401"
            ],
            "text/markdown": "2401",
            "text/latex": "2401",
            "text/plain": [
              "[1] 2401"
            ]
          },
          "metadata": {}
        }
      ]
    },
    {
      "cell_type": "code",
      "source": [
        "boxplot(price)"
      ],
      "metadata": {
        "colab": {
          "base_uri": "https://localhost:8080/",
          "height": 437
        },
        "id": "cUD0iGsXFSHa",
        "outputId": "0406db0c-b91d-4e00-9bca-61e4a0b8e161"
      },
      "execution_count": 40,
      "outputs": [
        {
          "output_type": "display_data",
          "data": {
            "text/plain": [
              "plot without title"
            ],
            "image/png": "[encoded data removed]"
          },
          "metadata": {
            "image/png": {
              "width": 420,
              "height": 420
            }
          }
        }
      ]
    },
    {
      "cell_type": "code",
      "source": [
        "boxplot(diamonds)"
      ],
      "metadata": {
        "colab": {
          "base_uri": "https://localhost:8080/",
          "height": 437
        },
        "id": "EGGiwNI0FcYL",
        "outputId": "e8746663-c38d-49c9-8d7e-ee444967502c"
      },
      "execution_count": 41,
      "outputs": [
        {
          "output_type": "display_data",
          "data": {
            "text/plain": [
              "plot without title"
            ],
            "image/png": "[encoded data removed]"
          },
          "metadata": {
            "image/png": {
              "width": 420,
              "height": 420
            }
          }
        }
      ]
    },
    {
      "cell_type": "code",
      "source": [
        "c(1,3,4,7,8)"
      ],
      "metadata": {
        "colab": {
          "base_uri": "https://localhost:8080/",
          "height": 34
        },
        "id": "TLkEhdrsGEtu",
        "outputId": "04ebfcdb-959a-4ccd-d34d-73b611fcdea3"
      },
      "execution_count": 42,
      "outputs": [
        {
          "output_type": "display_data",
          "data": {
            "text/html": [
              "<style>\n",
              ".list-inline {list-style: none; margin:0; padding: 0}\n",
              ".list-inline>li {display: inline-block}\n",
              ".list-inline>li:not(:last-child)::after {content: \"\\00b7\"; padding: 0 .5ex}\n",
              "</style>\n",
              "<ol class=list-inline><li>1</li><li>3</li><li>4</li><li>7</li><li>8</li></ol>\n"
            ],
            "text/markdown": "1. 1\n2. 3\n3. 4\n4. 7\n5. 8\n\n\n",
            "text/latex": "\\begin{enumerate*}\n\\item 1\n\\item 3\n\\item 4\n\\item 7\n\\item 8\n\\end{enumerate*}\n",
            "text/plain": [
              "[1] 1 3 4 7 8"
            ]
          },
          "metadata": {}
        }
      ]
    },
    {
      "cell_type": "code",
      "source": [
        "Titanic"
      ],
      "metadata": {
        "colab": {
          "base_uri": "https://localhost:8080/",
          "height": 671
        },
        "id": "WiF2oFXlJEEO",
        "outputId": "e0b24c88-8645-40b1-fa94-ea385b73db2c"
      },
      "execution_count": 44,
      "outputs": [
        {
          "output_type": "display_data",
          "data": {
            "text/plain": [
              ", , Age = Child, Survived = No\n",
              "\n",
              "      Sex\n",
              "Class  Male Female\n",
              "  1st     0      0\n",
              "  2nd     0      0\n",
              "  3rd    35     17\n",
              "  Crew    0      0\n",
              "\n",
              ", , Age = Adult, Survived = No\n",
              "\n",
              "      Sex\n",
              "Class  Male Female\n",
              "  1st   118      4\n",
              "  2nd   154     13\n",
              "  3rd   387     89\n",
              "  Crew  670      3\n",
              "\n",
              ", , Age = Child, Survived = Yes\n",
              "\n",
              "      Sex\n",
              "Class  Male Female\n",
              "  1st     5      1\n",
              "  2nd    11     13\n",
              "  3rd    13     14\n",
              "  Crew    0      0\n",
              "\n",
              ", , Age = Adult, Survived = Yes\n",
              "\n",
              "      Sex\n",
              "Class  Male Female\n",
              "  1st    57    140\n",
              "  2nd    14     80\n",
              "  3rd    75     76\n",
              "  Crew  192     20\n"
            ]
          },
          "metadata": {}
        }
      ]
    },
    {
      "cell_type": "code",
      "source": [
        "str(Titanic)"
      ],
      "metadata": {
        "colab": {
          "base_uri": "https://localhost:8080/"
        },
        "id": "wgH76cYeJqZ6",
        "outputId": "e725b47f-cd93-4a4a-b61e-4e5042f44d4b"
      },
      "execution_count": 45,
      "outputs": [
        {
          "output_type": "stream",
          "name": "stdout",
          "text": [
            " 'table' num [1:4, 1:2, 1:2, 1:2] 0 0 35 0 0 0 17 0 118 154 ...\n",
            " - attr(*, \"dimnames\")=List of 4\n",
            "  ..$ Class   : chr [1:4] \"1st\" \"2nd\" \"3rd\" \"Crew\"\n",
            "  ..$ Sex     : chr [1:2] \"Male\" \"Female\"\n",
            "  ..$ Age     : chr [1:2] \"Child\" \"Adult\"\n",
            "  ..$ Survived: chr [1:2] \"No\" \"Yes\"\n"
          ]
        }
      ]
    },
    {
      "cell_type": "code",
      "source": [
        "?mosaicplot"
      ],
      "metadata": {
        "id": "0gpk_bpeKF5P"
      },
      "execution_count": 48,
      "outputs": []
    },
    {
      "cell_type": "code",
      "source": [
        "mosaicplot(Titanic,\n",
        " main = \"타이타닉호의 운명\",\n",
        " color = c(\"red\", \"green\"),\n",
        " off=1)"
      ],
      "metadata": {
        "colab": {
          "base_uri": "https://localhost:8080/",
          "height": 437
        },
        "id": "M3nJbH3JKVgW",
        "outputId": "071d356a-214b-4013-ac15-ead9c6468733"
      },
      "execution_count": 49,
      "outputs": [
        {
          "output_type": "display_data",
          "data": {
            "text/plain": [
              "Plot with title “타이타닉호의 운명”"
            ],
            "image/png": "[encoded data removed]"
          },
          "metadata": {
            "image/png": {
              "width": 420,
              "height": 420
            }
          }
        }
      ]
    },
    {
      "cell_type": "code",
      "source": [],
      "metadata": {
        "id": "VEK-NwrELVnw"
      },
      "execution_count": null,
      "outputs": []
    }
  ]
}